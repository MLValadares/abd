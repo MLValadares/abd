{
 "cells": [
  {
   "cell_type": "markdown",
   "metadata": {},
   "source": [
    ">**Algoritmos para Big Data**\n",
    "\n",
    ">**2023/24**"
   ]
  },
  {
   "cell_type": "markdown",
   "metadata": {
    "heading_collapsed": true
   },
   "source": [
    "# Recommender Systems\n",
    "This lecture is about recommender systems (or recommendation systems). In the meantime, we highlight the usefulness of Spark SQL, particularly when it relates to persistent tables."
   ]
  },
  {
   "cell_type": "markdown",
   "metadata": {
    "heading_collapsed": true
   },
   "source": [
    "# Spark SQL\n",
    "\n",
    "As mentioned in the initial lectures, Spark SQL is a Spark module for structured data processing. It works alongside the APIs of DataFrame and Dataset and it is responsible for performing extra optimizations. We can also execute SQL queries and reading data from various files formats an Hive tables. (Apache Hive can manage large datasets residing in distributed storage using SQL)\n",
    "\n",
    "Further details can be found in https://spark.apache.org/docs/latest/sql-programming-guide.html  and https://spark.apache.org/docs/latest/api/sql/index.html\n",
    "\n",
    "We can check the reference guide for Structured Query Language (SQL) which includes syntax, semantics, keywords, and examples for common SQL usage."
   ]
  },
  {
   "cell_type": "markdown",
   "metadata": {
    "heading_collapsed": true
   },
   "source": [
    "# Problem formulation\n",
    "\n",
    "This exercise aims to build a recommender system of books, with focus on the recommendation model\n",
    "itself.\n",
    "The functional requirements for the Spark program we want to create are as follows:\n",
    "1. To load the dataset and perform Exploratory Data Analysis (EDA), then store the information properly cleaned, including as SQL tables.\n",
    "2. To create a recommendation model supported by the ALS algorithm provided by Spark MLlib.\n",
    "3. To pre-compute recommendations and store them in SQL tables.\n",
    "4. To show recommendations.\n",
    "\n",
    "\n",
    "**Dataset**\n",
    "\n",
    "The dataset describes 5-star rating and free-text tagging activity from MovieLens (`https://movielens.org/`), a movie recommendation service supported by the Social Computing Research Group at the University of Minnesota,  USA (`https://grouplens.org/`). It contains 32000204 ratings and 2000072 tag applications across 87585 movies. These data were created by 200948 users between 9 January 1995 and 12 October 2023, and all selected users had rated at least 20 movies. \n",
    "\n",
    "The data of concern are contained in the files `links.csv`, `movies.csv`, `ratings.csv` and `tags.csv`. The information included in the files are as follows:\n",
    "- **links.csv**: Contains identifiers that link to sources of movie data e.g. to `movielens.org` or to `imdb.com`. \n",
    "- **movies.csv**: Contains information about the movies, following the format `movieId, title, genres`.\n",
    "- **ratings.csv**: Contains ratings of movies by users, following the format `userId, movieId, rating, timestamp`.\n",
    "- **tags.csv**: Contains tags applied by users to movies, according to the format `userId, movieId, tag, timestamp`.\n",
    "\n",
    "The given identifiers are common across the files.\n",
    "\n",
    "The dataset (MovieLens 32M Dataset, file **ml-32m.zip**) can be downloaded from the location \n",
    "\n",
    ">`https://bigdata.iscte.me/abd/ml-32m.zip` .\n"
   ]
  },
  {
   "cell_type": "markdown",
   "metadata": {},
   "source": [
    "# Initial settings"
   ]
  },
  {
   "cell_type": "markdown",
   "metadata": {},
   "source": [
    "## Additional packages and imports"
   ]
  },
  {
   "cell_type": "code",
   "execution_count": 1,
   "metadata": {},
   "outputs": [],
   "source": [
    "import findspark, pyspark\n",
    "\n",
    "from pyspark.sql import SparkSession\n",
    "from pyspark.sql.types import *\n",
    "import pyspark.sql.functions as F"
   ]
  },
  {
   "cell_type": "code",
   "execution_count": 2,
   "metadata": {
    "ExecuteTime": {
     "end_time": "2021-03-07T19:11:08.158170Z",
     "start_time": "2021-03-07T19:11:07.859222Z"
    },
    "hidden": true
   },
   "outputs": [],
   "source": [
    "# Some imports \n",
    "\n",
    "import os, sys\n",
    "\n",
    "import numpy as np \n",
    "import pandas as pd  \n",
    "import matplotlib.pyplot as plt\n",
    "import seaborn as sns\n",
    "import warnings\n",
    "warnings.filterwarnings(\"ignore\")"
   ]
  },
  {
   "cell_type": "code",
   "execution_count": 3,
   "metadata": {
    "collapsed": true,
    "jupyter": {
     "outputs_hidden": true
    }
   },
   "outputs": [
    {
     "name": "stderr",
     "output_type": "stream",
     "text": [
      "Setting default log level to \"WARN\".\n",
      "To adjust logging level use sc.setLogLevel(newLevel). For SparkR, use setLogLevel(newLevel).\n",
      "24/04/03 20:41:33 WARN NativeCodeLoader: Unable to load native-hadoop library for your platform... using builtin-java classes where applicable\n"
     ]
    }
   ],
   "source": [
    "# Create the Spark session\n",
    "\n",
    "findspark.init()\n",
    "findspark.find()\n",
    "\n",
    "spark = SparkSession\\\n",
    "        .builder\\\n",
    "        .appName(\"MovieLens\")\\\n",
    "        .config(\"spark.sql.shuffle.partitions\",6)\\\n",
    "        .config(\"spark.sql.repl.eagereval.enabled\",True)\\\n",
    "        .getOrCreate()"
   ]
  },
  {
   "cell_type": "code",
   "execution_count": 4,
   "metadata": {},
   "outputs": [
    {
     "data": {
      "text/html": [
       "\n",
       "            <div>\n",
       "                <p><b>SparkSession - in-memory</b></p>\n",
       "                \n",
       "        <div>\n",
       "            <p><b>SparkContext</b></p>\n",
       "\n",
       "            <p><a href=\"http://mini-de-adriano.lan:4040\">Spark UI</a></p>\n",
       "\n",
       "            <dl>\n",
       "              <dt>Version</dt>\n",
       "                <dd><code>v3.5.0</code></dd>\n",
       "              <dt>Master</dt>\n",
       "                <dd><code>local[*]</code></dd>\n",
       "              <dt>AppName</dt>\n",
       "                <dd><code>MovieLens</code></dd>\n",
       "            </dl>\n",
       "        </div>\n",
       "        \n",
       "            </div>\n",
       "        "
      ],
      "text/plain": [
       "<pyspark.sql.session.SparkSession at 0x1229f8260>"
      ]
     },
     "execution_count": 4,
     "metadata": {},
     "output_type": "execute_result"
    }
   ],
   "source": [
    "spark"
   ]
  },
  {
   "cell_type": "code",
   "execution_count": 5,
   "metadata": {},
   "outputs": [],
   "source": [
    "# Some Spark related imports we will use hereafter\n",
    "\n",
    "from pyspark.ml import Pipeline\n",
    "\n",
    "from pyspark.ml.feature import StringIndexer\n",
    "from pyspark.ml.recommendation import ALS\n",
    "from pyspark.ml.evaluation import RegressionEvaluator"
   ]
  },
  {
   "cell_type": "code",
   "execution_count": 6,
   "metadata": {},
   "outputs": [
    {
     "data": {
      "text/html": [
       "<style>pre { white-space: pre !important; }</style>"
      ],
      "text/plain": [
       "<IPython.core.display.HTML object>"
      ]
     },
     "metadata": {},
     "output_type": "display_data"
    }
   ],
   "source": [
    "from IPython.core.display import HTML\n",
    "display(HTML(\"<style>pre { white-space: pre !important; }</style>\"))"
   ]
  },
  {
   "cell_type": "markdown",
   "metadata": {
    "hidden": true
   },
   "source": [
    "## Useful functions"
   ]
  },
  {
   "cell_type": "code",
   "execution_count": 7,
   "metadata": {},
   "outputs": [],
   "source": [
    "def plotBarColoured(df, xcol, ycol, colour): \n",
    "    return sns.barplot(data=df, x=xcol, y=ycol, color=colour)"
   ]
  },
  {
   "cell_type": "code",
   "execution_count": 8,
   "metadata": {},
   "outputs": [],
   "source": [
    "def plotLine(df, xcol, ycol):\n",
    "    return sns.lineplot(data=df, x=xcol, y=ycol)"
   ]
  },
  {
   "cell_type": "code",
   "execution_count": 9,
   "metadata": {},
   "outputs": [],
   "source": [
    "def plotHistogram(df, xcol, huecol=None):\n",
    "    sns.histplot(data=df, x=xcol, hue=huecol, multiple=\"stack\")"
   ]
  },
  {
   "cell_type": "raw",
   "metadata": {},
   "source": [
    "def plotScatter(df, xcol, ycol, huecol):\n",
    "    sns.set_theme(style=\"white\")\n",
    "    sns.scatterplot(data=df, x=xcol, y=ycol, hue=huecol)"
   ]
  },
  {
   "cell_type": "raw",
   "metadata": {},
   "source": [
    "def plotScatterMatrix(df, huecol):\n",
    "    sns.pairplot(data=df, hue=huecol)"
   ]
  },
  {
   "cell_type": "code",
   "execution_count": 10,
   "metadata": {},
   "outputs": [],
   "source": [
    "def plotCorrelationMatrix(corr, annot=False):\n",
    "    # generate a mask for the upper triangle\n",
    "    mask = np.triu(np.ones_like(corr, dtype=bool))\n",
    "\n",
    "    # set up the matplotlib figure\n",
    "    f, ax = plt.subplots(figsize=(11, 9))\n",
    "\n",
    "    # generate a custom diverging colormap\n",
    "    cmap = sns.diverging_palette(230, 20, as_cmap=True)\n",
    "    #cmap='coolwarm'\n",
    "\n",
    "    # draw the heatmap with the mask and correct aspect ratio\n",
    "    sns.heatmap(corr, mask=mask, cmap=cmap, vmax=.3, center=0, annot=annot,\n",
    "            square=True, linewidths=.5, cbar_kws={\"shrink\": .5})"
   ]
  },
  {
   "cell_type": "code",
   "execution_count": 11,
   "metadata": {},
   "outputs": [],
   "source": [
    "def plotBox(df, xcol, ycol, huecol=None, kind='box'):\n",
    "    return sns.catplot(data=df, x=xcol, y=ycol, hue=huecol, kind=kind)"
   ]
  },
  {
   "cell_type": "code",
   "execution_count": 12,
   "metadata": {},
   "outputs": [],
   "source": [
    "# Function to get columns of numeric type in a DataFrame\n",
    "\n",
    "def numeric_columns(df):\n",
    "    cls_numeric = []\n",
    "    for x, t in df.dtypes:\n",
    "        if t in ['int', 'double']:\n",
    "            cls_numeric.append(x)\n",
    "    return cls_numeric"
   ]
  },
  {
   "cell_type": "code",
   "execution_count": 13,
   "metadata": {},
   "outputs": [],
   "source": [
    "# Function to figure out the profile of nulls and uniques for columns in a DataFrame\n",
    "\n",
    "def compute_nulls_and_uniques(df, cols):\n",
    "    total = df.count()\n",
    "    results = []\n",
    "    for cl in cols:\n",
    "        knulls = df.select(cl).filter(F.col(cl).isNull()).count()\n",
    "        knullsperc = knulls / total\n",
    "        knans = df.select(cl).filter(F.isnan(cl)).count()\n",
    "        knansperc = knans / total\n",
    "        kuniques = df.select(cl).distinct().count()\n",
    "        kuniquesperc = kuniques / total\n",
    "        results.append(Row(feature = cl, count_nulls = knulls, percentage_nulls = knullsperc,\n",
    "                           count_nans = knans, percentage_nans = knansperc,\n",
    "                           count_uniques = kuniques, percentage_uniques = kuniquesperc))\n",
    "\n",
    "    return spark.createDataFrame(results)"
   ]
  },
  {
   "cell_type": "markdown",
   "metadata": {
    "hidden": true
   },
   "source": [
    "# Collect and label data"
   ]
  },
  {
   "cell_type": "raw",
   "metadata": {},
   "source": [
    "Checking working diretory and data files"
   ]
  },
  {
   "cell_type": "code",
   "execution_count": null,
   "metadata": {
    "ExecuteTime": {
     "end_time": "2021-03-07T19:11:08.953150Z",
     "start_time": "2021-03-07T19:11:08.185863Z"
    },
    "hidden": true
   },
   "outputs": [],
   "source": [
    "pwd"
   ]
  },
  {
   "cell_type": "code",
   "execution_count": 15,
   "metadata": {},
   "outputs": [],
   "source": [
    "data_dir = "
   ]
  },
  {
   "cell_type": "code",
   "execution_count": null,
   "metadata": {},
   "outputs": [],
   "source": [
    "ls -la "
   ]
  },
  {
   "cell_type": "code",
   "execution_count": 17,
   "metadata": {},
   "outputs": [
    {
     "name": "stdout",
     "output_type": "stream",
     "text": [
      "movieId,imdbId,tmdbId\n",
      "1,0114709,862\n",
      "2,0113497,8844\n"
     ]
    }
   ],
   "source": [
    "! head -n 3 ../Datasets/ml-32m/links.csv"
   ]
  },
  {
   "cell_type": "code",
   "execution_count": 18,
   "metadata": {},
   "outputs": [
    {
     "name": "stdout",
     "output_type": "stream",
     "text": [
      "movieId,title,genres\n",
      "1,Toy Story (1995),Adventure|Animation|Children|Comedy|Fantasy\n",
      "2,Jumanji (1995),Adventure|Children|Fantasy\n"
     ]
    }
   ],
   "source": [
    "! head -n 3 ../Datasets/ml-32m/movies.csv"
   ]
  },
  {
   "cell_type": "code",
   "execution_count": 19,
   "metadata": {},
   "outputs": [
    {
     "name": "stdout",
     "output_type": "stream",
     "text": [
      "userId,movieId,rating,timestamp\n",
      "1,17,4.0,944249077\n",
      "1,25,1.0,944250228\n"
     ]
    }
   ],
   "source": [
    "! head -n 3 ../Datasets/ml-32m/ratings.csv"
   ]
  },
  {
   "cell_type": "code",
   "execution_count": 20,
   "metadata": {},
   "outputs": [
    {
     "name": "stdout",
     "output_type": "stream",
     "text": [
      "userId,movieId,tag,timestamp\n",
      "22,26479,Kevin Kline,1583038886\n",
      "22,79592,misogyny,1581476297\n"
     ]
    }
   ],
   "source": [
    "! head -n 3 ../Datasets/ml-32m/tags.csv"
   ]
  },
  {
   "cell_type": "markdown",
   "metadata": {},
   "source": [
    "## Reading the datasets\n",
    "\n",
    "For the sake of this exercise, only data from the files `movies.csv` and `ratings.csv` are of interest."
   ]
  },
  {
   "cell_type": "code",
   "execution_count": 21,
   "metadata": {},
   "outputs": [],
   "source": [
    "file_path = data_dir + \"movies.csv\"\n",
    "df_movies = spark.read.csv(file_path, header=\"true\", inferSchema=\"true\", sep=',')"
   ]
  },
  {
   "cell_type": "code",
   "execution_count": 22,
   "metadata": {
    "ExecuteTime": {
     "end_time": "2021-03-07T19:11:08.961000Z",
     "start_time": "2021-03-07T19:11:08.954809Z"
    },
    "hidden": true
   },
   "outputs": [
    {
     "name": "stderr",
     "output_type": "stream",
     "text": [
      "                                                                                \r"
     ]
    }
   ],
   "source": [
    "file_path = data_dir + \"ratings.csv\"\n",
    "df_ratings = spark.read.csv(file_path, header=\"true\", inferSchema=\"true\", sep=',')"
   ]
  },
  {
   "cell_type": "markdown",
   "metadata": {},
   "source": [
    "## Checking data\n",
    "Schema, show and count."
   ]
  },
  {
   "cell_type": "markdown",
   "metadata": {},
   "source": [
    "### Movies"
   ]
  },
  {
   "cell_type": "code",
   "execution_count": 23,
   "metadata": {},
   "outputs": [
    {
     "name": "stdout",
     "output_type": "stream",
     "text": [
      "root\n",
      " |-- movieId: integer (nullable = true)\n",
      " |-- title: string (nullable = true)\n",
      " |-- genres: string (nullable = true)\n",
      "\n",
      "+-------+----------------------------------+-------------------------------------------+\n",
      "|movieId|title                             |genres                                     |\n",
      "+-------+----------------------------------+-------------------------------------------+\n",
      "|1      |Toy Story (1995)                  |Adventure|Animation|Children|Comedy|Fantasy|\n",
      "|2      |Jumanji (1995)                    |Adventure|Children|Fantasy                 |\n",
      "|3      |Grumpier Old Men (1995)           |Comedy|Romance                             |\n",
      "|4      |Waiting to Exhale (1995)          |Comedy|Drama|Romance                       |\n",
      "|5      |Father of the Bride Part II (1995)|Comedy                                     |\n",
      "+-------+----------------------------------+-------------------------------------------+\n",
      "only showing top 5 rows\n",
      "\n"
     ]
    },
    {
     "data": {
      "text/plain": [
       "87585"
      ]
     },
     "execution_count": 23,
     "metadata": {},
     "output_type": "execute_result"
    }
   ],
   "source": [
    "df_movies.printSchema()\n",
    "df_movies.show(5, truncate=False) \n",
    "num_movies = df_movies.count()\n",
    "num_movies"
   ]
  },
  {
   "cell_type": "markdown",
   "metadata": {},
   "source": [
    "### Ratings"
   ]
  },
  {
   "cell_type": "code",
   "execution_count": 24,
   "metadata": {},
   "outputs": [
    {
     "name": "stdout",
     "output_type": "stream",
     "text": [
      "root\n",
      " |-- userId: integer (nullable = true)\n",
      " |-- movieId: integer (nullable = true)\n",
      " |-- rating: double (nullable = true)\n",
      " |-- timestamp: integer (nullable = true)\n",
      "\n",
      "+------+-------+------+---------+\n",
      "|userId|movieId|rating|timestamp|\n",
      "+------+-------+------+---------+\n",
      "|1     |17     |4.0   |944249077|\n",
      "|1     |25     |1.0   |944250228|\n",
      "|1     |29     |2.0   |943230976|\n",
      "|1     |30     |5.0   |944249077|\n",
      "|1     |32     |5.0   |943228858|\n",
      "+------+-------+------+---------+\n",
      "only showing top 5 rows\n",
      "\n"
     ]
    },
    {
     "name": "stderr",
     "output_type": "stream",
     "text": [
      "                                                                                \r"
     ]
    },
    {
     "data": {
      "text/plain": [
       "32000204"
      ]
     },
     "execution_count": 24,
     "metadata": {},
     "output_type": "execute_result"
    }
   ],
   "source": [
    "\n",
    "\n",
    "\n"
   ]
  },
  {
   "cell_type": "markdown",
   "metadata": {},
   "source": [
    "# Explore and evaluate data\n",
    "\n",
    "Let us get some data insight, with some **exploratory data analysis** based on descriptive statistics and visualizations."
   ]
  },
  {
   "cell_type": "markdown",
   "metadata": {},
   "source": [
    "## Datatypes\n",
    "Is there a need to make adjustments/adding new fields to the data types specified in the dataframes? \n",
    "\n",
    "Check the corresponding schema."
   ]
  },
  {
   "cell_type": "markdown",
   "metadata": {},
   "source": [
    "Issues:\n",
    "- In Ratings, timestamp is set as integer but it is better using the Spark's timestamp datatype.\n"
   ]
  },
  {
   "cell_type": "code",
   "execution_count": 25,
   "metadata": {},
   "outputs": [],
   "source": [
    "# Let us create a new column but using just a simple cast. It may be enough!\n",
    "\n",
    "df_ratings = ( df_ratings\n",
    "                .withColumn(                         )\n",
    "            )"
   ]
  },
  {
   "cell_type": "code",
   "execution_count": 26,
   "metadata": {},
   "outputs": [
    {
     "name": "stdout",
     "output_type": "stream",
     "text": [
      "root\n",
      " |-- userId: integer (nullable = true)\n",
      " |-- movieId: integer (nullable = true)\n",
      " |-- rating: double (nullable = true)\n",
      " |-- timestamp: integer (nullable = true)\n",
      " |-- time: timestamp (nullable = true)\n",
      "\n",
      "+------+-------+------+---------+-------------------+\n",
      "|userId|movieId|rating|timestamp|time               |\n",
      "+------+-------+------+---------+-------------------+\n",
      "|1     |17     |4.0   |944249077|1999-12-03 19:24:37|\n",
      "|1     |25     |1.0   |944250228|1999-12-03 19:43:48|\n",
      "|1     |29     |2.0   |943230976|1999-11-22 00:36:16|\n",
      "|1     |30     |5.0   |944249077|1999-12-03 19:24:37|\n",
      "|1     |32     |5.0   |943228858|1999-11-22 00:00:58|\n",
      "+------+-------+------+---------+-------------------+\n",
      "only showing top 5 rows\n",
      "\n"
     ]
    }
   ],
   "source": [
    "# Check the changes made \n",
    "\n",
    "df_ratings.printSchema()\n",
    "df_ratings.show(5, truncate=False)"
   ]
  },
  {
   "cell_type": "raw",
   "metadata": {},
   "source": [
    "Check the README file provided, in particular in relation to \n",
    "movies and ratings data (timestamps, etc). "
   ]
  },
  {
   "cell_type": "markdown",
   "metadata": {},
   "source": [
    "## Nulls, NaN and uniques\n",
    "\n",
    "Identify number of nulls or NaN in columns as well uniques. This is helpful to further investigate the data."
   ]
  },
  {
   "cell_type": "code",
   "execution_count": 27,
   "metadata": {},
   "outputs": [],
   "source": [
    "df_movies_nulls_uniques = compute_nulls_and_uniques(df_movies, df_movies.columns)"
   ]
  },
  {
   "cell_type": "code",
   "execution_count": 28,
   "metadata": {},
   "outputs": [
    {
     "name": "stdout",
     "output_type": "stream",
     "text": [
      "+-------+-----------+----------------+----------+---------------+-------------+--------------------+\n",
      "|feature|count_nulls|percentage_nulls|count_nans|percentage_nans|count_uniques|percentage_uniques  |\n",
      "+-------+-----------+----------------+----------+---------------+-------------+--------------------+\n",
      "|movieId|0          |0.0             |0         |0.0            |87585        |1.0                 |\n",
      "|title  |0          |0.0             |0         |0.0            |87382        |0.997682251527088   |\n",
      "|genres |0          |0.0             |0         |0.0            |1799         |0.020540046811668666|\n",
      "+-------+-----------+----------------+----------+---------------+-------------+--------------------+\n",
      "\n"
     ]
    },
    {
     "name": "stderr",
     "output_type": "stream",
     "text": [
      "                                                                                \r"
     ]
    }
   ],
   "source": [
    "df_movies_nulls_uniques."
   ]
  },
  {
   "cell_type": "code",
   "execution_count": 29,
   "metadata": {},
   "outputs": [
    {
     "name": "stderr",
     "output_type": "stream",
     "text": [
      "                                                                                \r"
     ]
    }
   ],
   "source": [
    "# cols_to_check = ['userID', 'movieId', 'rating', 'timestamp']\n",
    "cols_to_check = ['userID', 'movieId', 'rating']\n",
    "# but not including the new time column if we use the method below! Try.\n",
    "\n",
    "df_ratings_nulls_uniques = compute_nulls_and_uniques(df_ratings, cols_to_check)"
   ]
  },
  {
   "cell_type": "code",
   "execution_count": 30,
   "metadata": {},
   "outputs": [
    {
     "name": "stdout",
     "output_type": "stream",
     "text": [
      "+-------+-----------+----------------+----------+---------------+-------------+---------------------+\n",
      "|feature|count_nulls|percentage_nulls|count_nans|percentage_nans|count_uniques|percentage_uniques   |\n",
      "+-------+-----------+----------------+----------+---------------+-------------+---------------------+\n",
      "|userID |0          |0.0             |0         |0.0            |200948       |0.006279584967645831 |\n",
      "|movieId|0          |0.0             |0         |0.0            |84432        |0.0026384831796697297|\n",
      "|rating |0          |0.0             |0         |0.0            |10           |3.1249800782520014E-7|\n",
      "+-------+-----------+----------------+----------+---------------+-------------+---------------------+\n",
      "\n"
     ]
    }
   ],
   "source": [
    "df_ratings_nulls_uniques."
   ]
  },
  {
   "cell_type": "markdown",
   "metadata": {},
   "source": [
    "## Summary to figure out outliers\n",
    "Summary of values for columns of interest. Use of describe() or summary() "
   ]
  },
  {
   "cell_type": "code",
   "execution_count": 31,
   "metadata": {},
   "outputs": [],
   "source": [
    "# df_movies.describe().show()"
   ]
  },
  {
   "cell_type": "code",
   "execution_count": 32,
   "metadata": {},
   "outputs": [],
   "source": [
    "# df_ratings.describe().show()"
   ]
  },
  {
   "cell_type": "markdown",
   "metadata": {},
   "source": [
    "## Duplicates"
   ]
  },
  {
   "cell_type": "code",
   "execution_count": 33,
   "metadata": {},
   "outputs": [
    {
     "data": {
      "text/plain": [
       "[87585, 87585]"
      ]
     },
     "execution_count": 33,
     "metadata": {},
     "output_type": "execute_result"
    }
   ],
   "source": [
    "[num_movies, df_movies.dropDuplicates().count()]"
   ]
  },
  {
   "cell_type": "code",
   "execution_count": null,
   "metadata": {
    "scrolled": true
   },
   "outputs": [],
   "source": [
    "[num_ratings, "
   ]
  },
  {
   "cell_type": "markdown",
   "metadata": {},
   "source": [
    "## Visualizations"
   ]
  },
  {
   "cell_type": "markdown",
   "metadata": {},
   "source": [
    "Some visualizations to better understand the data. Feel free to adjust and/or add more."
   ]
  },
  {
   "cell_type": "code",
   "execution_count": 35,
   "metadata": {},
   "outputs": [
    {
     "name": "stderr",
     "output_type": "stream",
     "text": [
      "                                                                                \r"
     ]
    },
    {
     "data": {
      "image/png": "[encoded data removed]",
      "text/plain": [
       "<Figure size 640x480 with 1 Axes>"
      ]
     },
     "metadata": {},
     "output_type": "display_data"
    }
   ],
   "source": [
    "# Ratings distribution\n",
    "\n",
    "df_plot = ( df_ratings.groupBy('rating')\n",
    "           .count()\n",
    "           .sort('count', ascending=False)\n",
    "           .toPandas()\n",
    "          )\n",
    "plotBarColoured(df_plot, 'rating', 'count', 'orange')\n",
    "plt.title('Counting of ratings')\n",
    "plt.show()"
   ]
  },
  {
   "cell_type": "code",
   "execution_count": 36,
   "metadata": {},
   "outputs": [
    {
     "data": {
      "text/html": [
       "<div>\n",
       "<style scoped>\n",
       "    .dataframe tbody tr th:only-of-type {\n",
       "        vertical-align: middle;\n",
       "    }\n",
       "\n",
       "    .dataframe tbody tr th {\n",
       "        vertical-align: top;\n",
       "    }\n",
       "\n",
       "    .dataframe thead th {\n",
       "        text-align: right;\n",
       "    }\n",
       "</style>\n",
       "<table border=\"1\" class=\"dataframe\">\n",
       "  <thead>\n",
       "    <tr style=\"text-align: right;\">\n",
       "      <th></th>\n",
       "      <th>rating</th>\n",
       "      <th>count</th>\n",
       "    </tr>\n",
       "  </thead>\n",
       "  <tbody>\n",
       "    <tr>\n",
       "      <th>0</th>\n",
       "      <td>4.0</td>\n",
       "      <td>8367654</td>\n",
       "    </tr>\n",
       "    <tr>\n",
       "      <th>1</th>\n",
       "      <td>3.0</td>\n",
       "      <td>6054990</td>\n",
       "    </tr>\n",
       "    <tr>\n",
       "      <th>2</th>\n",
       "      <td>5.0</td>\n",
       "      <td>4596577</td>\n",
       "    </tr>\n",
       "    <tr>\n",
       "      <th>3</th>\n",
       "      <td>3.5</td>\n",
       "      <td>4290105</td>\n",
       "    </tr>\n",
       "    <tr>\n",
       "      <th>4</th>\n",
       "      <td>4.5</td>\n",
       "      <td>2974000</td>\n",
       "    </tr>\n",
       "    <tr>\n",
       "      <th>5</th>\n",
       "      <td>2.0</td>\n",
       "      <td>2028622</td>\n",
       "    </tr>\n",
       "    <tr>\n",
       "      <th>6</th>\n",
       "      <td>2.5</td>\n",
       "      <td>1685386</td>\n",
       "    </tr>\n",
       "    <tr>\n",
       "      <th>7</th>\n",
       "      <td>1.0</td>\n",
       "      <td>946675</td>\n",
       "    </tr>\n",
       "    <tr>\n",
       "      <th>8</th>\n",
       "      <td>1.5</td>\n",
       "      <td>531063</td>\n",
       "    </tr>\n",
       "    <tr>\n",
       "      <th>9</th>\n",
       "      <td>0.5</td>\n",
       "      <td>525132</td>\n",
       "    </tr>\n",
       "  </tbody>\n",
       "</table>\n",
       "</div>"
      ],
      "text/plain": [
       "   rating    count\n",
       "0     4.0  8367654\n",
       "1     3.0  6054990\n",
       "2     5.0  4596577\n",
       "3     3.5  4290105\n",
       "4     4.5  2974000\n",
       "5     2.0  2028622\n",
       "6     2.5  1685386\n",
       "7     1.0   946675\n",
       "8     1.5   531063\n",
       "9     0.5   525132"
      ]
     },
     "execution_count": 36,
     "metadata": {},
     "output_type": "execute_result"
    }
   ],
   "source": [
    "df_plot.head(40)"
   ]
  },
  {
   "cell_type": "code",
   "execution_count": 37,
   "metadata": {},
   "outputs": [
    {
     "name": "stderr",
     "output_type": "stream",
     "text": [
      "                                                                                \r"
     ]
    }
   ],
   "source": [
    "# Top 10 popular movies based on number of ratings\n",
    "\n",
    "df_plot = ( df_ratings\n",
    "                .groupBy('movieId')\n",
    "                .agg({'userId': 'count', 'rating': 'average'})\n",
    "                .sort('count(userId)', ascending=False)\n",
    "                .limit(10)\n",
    "                .toPandas()\n",
    "             )"
   ]
  },
  {
   "cell_type": "code",
   "execution_count": 38,
   "metadata": {},
   "outputs": [
    {
     "data": {
      "text/html": [
       "<div>\n",
       "<style scoped>\n",
       "    .dataframe tbody tr th:only-of-type {\n",
       "        vertical-align: middle;\n",
       "    }\n",
       "\n",
       "    .dataframe tbody tr th {\n",
       "        vertical-align: top;\n",
       "    }\n",
       "\n",
       "    .dataframe thead th {\n",
       "        text-align: right;\n",
       "    }\n",
       "</style>\n",
       "<table border=\"1\" class=\"dataframe\">\n",
       "  <thead>\n",
       "    <tr style=\"text-align: right;\">\n",
       "      <th></th>\n",
       "      <th>movieId</th>\n",
       "      <th>avg(rating)</th>\n",
       "      <th>count(userId)</th>\n",
       "    </tr>\n",
       "  </thead>\n",
       "  <tbody>\n",
       "    <tr>\n",
       "      <th>0</th>\n",
       "      <td>318</td>\n",
       "      <td>4.404614</td>\n",
       "      <td>102929</td>\n",
       "    </tr>\n",
       "    <tr>\n",
       "      <th>1</th>\n",
       "      <td>356</td>\n",
       "      <td>4.052744</td>\n",
       "      <td>100296</td>\n",
       "    </tr>\n",
       "    <tr>\n",
       "      <th>2</th>\n",
       "      <td>296</td>\n",
       "      <td>4.196969</td>\n",
       "      <td>98409</td>\n",
       "    </tr>\n",
       "    <tr>\n",
       "      <th>3</th>\n",
       "      <td>2571</td>\n",
       "      <td>4.156437</td>\n",
       "      <td>93808</td>\n",
       "    </tr>\n",
       "    <tr>\n",
       "      <th>4</th>\n",
       "      <td>593</td>\n",
       "      <td>4.148367</td>\n",
       "      <td>90330</td>\n",
       "    </tr>\n",
       "    <tr>\n",
       "      <th>5</th>\n",
       "      <td>260</td>\n",
       "      <td>4.099824</td>\n",
       "      <td>85010</td>\n",
       "    </tr>\n",
       "    <tr>\n",
       "      <th>6</th>\n",
       "      <td>2959</td>\n",
       "      <td>4.228780</td>\n",
       "      <td>77332</td>\n",
       "    </tr>\n",
       "    <tr>\n",
       "      <th>7</th>\n",
       "      <td>480</td>\n",
       "      <td>3.698623</td>\n",
       "      <td>75233</td>\n",
       "    </tr>\n",
       "    <tr>\n",
       "      <th>8</th>\n",
       "      <td>527</td>\n",
       "      <td>4.236990</td>\n",
       "      <td>73849</td>\n",
       "    </tr>\n",
       "    <tr>\n",
       "      <th>9</th>\n",
       "      <td>4993</td>\n",
       "      <td>4.092134</td>\n",
       "      <td>73122</td>\n",
       "    </tr>\n",
       "  </tbody>\n",
       "</table>\n",
       "</div>"
      ],
      "text/plain": [
       "   movieId  avg(rating)  count(userId)\n",
       "0      318     4.404614         102929\n",
       "1      356     4.052744         100296\n",
       "2      296     4.196969          98409\n",
       "3     2571     4.156437          93808\n",
       "4      593     4.148367          90330\n",
       "5      260     4.099824          85010\n",
       "6     2959     4.228780          77332\n",
       "7      480     3.698623          75233\n",
       "8      527     4.236990          73849\n",
       "9     4993     4.092134          73122"
      ]
     },
     "execution_count": 38,
     "metadata": {},
     "output_type": "execute_result"
    }
   ],
   "source": [
    "df_plot."
   ]
  },
  {
   "cell_type": "code",
   "execution_count": 39,
   "metadata": {},
   "outputs": [
    {
     "data": {
      "image/png": "[encoded data removed]",
      "text/plain": [
       "<Figure size 640x480 with 1 Axes>"
      ]
     },
     "metadata": {},
     "output_type": "display_data"
    }
   ],
   "source": [
    "\n",
    "\n",
    "plt.title('Top 10 popular movies based on number of ratings')\n",
    "plt.show()"
   ]
  },
  {
   "cell_type": "code",
   "execution_count": 40,
   "metadata": {},
   "outputs": [
    {
     "data": {
      "image/png": "[encoded data removed]",
      "text/plain": [
       "<Figure size 640x480 with 1 Axes>"
      ]
     },
     "metadata": {},
     "output_type": "display_data"
    }
   ],
   "source": [
    "\n",
    "\n",
    "plt.title('Average ratings of the top 10 popular movies based on number of ratings')\n",
    "plt.show()"
   ]
  },
  {
   "cell_type": "markdown",
   "metadata": {},
   "source": [
    "## Saving (clean) data\n",
    "\n",
    "Saving data in proper format for further use, if needed. \n",
    "\n",
    "**It seems data is OK.**"
   ]
  },
  {
   "cell_type": "markdown",
   "metadata": {},
   "source": [
    "Context:\n",
    "\n",
    "For a recommendation model, ratings data is critical.\n",
    "\n",
    "As usual, we may want to have a smaller dataset just for the purpose of testing locally. That is, a smaller ratings dataset, but **keeping** the complete movies dataset, where movies are described."
   ]
  },
  {
   "cell_type": "code",
   "execution_count": 41,
   "metadata": {},
   "outputs": [
    {
     "name": "stderr",
     "output_type": "stream",
     "text": [
      "                                                                                \r"
     ]
    },
    {
     "data": {
      "text/plain": [
       "9597293"
      ]
     },
     "execution_count": 41,
     "metadata": {},
     "output_type": "execute_result"
    }
   ],
   "source": [
    "# from counting of ratings = 32000204\n",
    "\n",
    "fraction = 0.3 # reduce to 30%\n",
    "\n",
    "seed = 5\n",
    "with_replacement = False\n",
    "df_ratings_small = df_ratings.sample(withReplacement=with_replacement, \n",
    "                                    fraction=fraction, seed=seed)\n",
    "df_ratings_small.count()"
   ]
  },
  {
   "cell_type": "code",
   "execution_count": 42,
   "metadata": {},
   "outputs": [],
   "source": [
    "# Delete memory consuming variables that are no longer needed, if any\n",
    "\n",
    "# del ...\n"
   ]
  },
  {
   "cell_type": "code",
   "execution_count": 43,
   "metadata": {},
   "outputs": [
    {
     "name": "stderr",
     "output_type": "stream",
     "text": [
      "                                                                                \r"
     ]
    }
   ],
   "source": [
    "# Saving movies in parquet format\n",
    "\n",
    "output_movies = \"movies.parquet\"\n",
    "df_movies.write.mode(\"overwrite\").parquet(output_movies)"
   ]
  },
  {
   "cell_type": "code",
   "execution_count": 44,
   "metadata": {
    "collapsed": true,
    "jupyter": {
     "outputs_hidden": true
    }
   },
   "outputs": [
    {
     "name": "stderr",
     "output_type": "stream",
     "text": [
      "24/04/03 20:45:53 WARN MemoryManager: Total allocation exceeds 95.00% (1,020,054,720 bytes) of heap memory\n",
      "Scaling row group sizes to 95.00% for 8 writers\n",
      "24/04/03 20:46:05 WARN MemoryManager: Total allocation exceeds 95.00% (1,020,054,720 bytes) of heap memory\n",
      "Scaling row group sizes to 95.00% for 8 writers\n",
      "                                                                                \r"
     ]
    }
   ],
   "source": [
    "# Saving ratings in parquet format\n",
    "\n",
    "output_ratings = \"ratings.parquet\"\n",
    "df_ratings.\n",
    "\n",
    "output_ratings = \"ratings_small.parquet\"\n",
    "df_ratings_small."
   ]
  },
  {
   "cell_type": "raw",
   "metadata": {},
   "source": [
    "Check in the running directory if the operations above were properly accomplished."
   ]
  },
  {
   "cell_type": "markdown",
   "metadata": {},
   "source": [
    "Also, save them as persistent tables into Hive metastore.\n",
    "\n",
    "Notes:\n",
    "- An existing Hive deployment is not necessary to use this feature. Spark will take care of it.\n",
    "- We can create a SQL table from a DataFrame with createOrReplaceTempView command, valid for the session. (there is also the option of global temporary views, to be shared among all sessions till the Spark application terminates)\n",
    "- But with saveAsTable, there will be a pointer to the data in the Hive metastore. So persistent tables will exist even after the Spark program has restarted, as long as connection is maintained to the same metastore.\n",
    "\n",
    "See details in http://spark.apache.org/docs/latest/sql-data-sources.html\n"
   ]
  },
  {
   "cell_type": "code",
   "execution_count": 45,
   "metadata": {},
   "outputs": [
    {
     "name": "stderr",
     "output_type": "stream",
     "text": [
      "24/04/03 20:46:26 WARN MemoryManager: Total allocation exceeds 95.00% (1,020,054,720 bytes) of heap memory\n",
      "Scaling row group sizes to 95.00% for 8 writers\n",
      "                                                                                \r"
     ]
    }
   ],
   "source": [
    "# Persistent tables into Hive metastore\n",
    "\n",
    "df_movies.write.mode(\"overwrite\").saveAsTable(\"MoviesTable\")\n",
    "df_ratings.write.mode(\"overwrite\").saveAsTable(\"RatingsTable\")"
   ]
  },
  {
   "cell_type": "markdown",
   "metadata": {},
   "source": [
    "# Feature engineering"
   ]
  },
  {
   "cell_type": "markdown",
   "metadata": {},
   "source": [
    "## Data to be used"
   ]
  },
  {
   "cell_type": "code",
   "execution_count": 46,
   "metadata": {},
   "outputs": [],
   "source": [
    "# df_ratings_to_use = df_ratings\n",
    "df_ratings_to_use = df_ratings_small"
   ]
  },
  {
   "cell_type": "markdown",
   "metadata": {
    "ExecuteTime": {
     "end_time": "2021-03-06T21:59:55.649596Z",
     "start_time": "2021-03-06T21:59:55.646188Z"
    },
    "hidden": true
   },
   "source": [
    "## Overview\n",
    "After establishing the data to be used for the recommendation model, we should get an overview about what we have achieved, with some statistics and visualizations.\n",
    "\n",
    "**But** \n",
    "\n",
    "we leave it as it is now, because there are no significant changes. Eventually, we could check the ratings and draw some plots, as it is the critical part of the system. You may try.\n",
    "\n",
    "Nonetheless, let us recall the data types at stake, mainly because the ML algorithm requires numbers to process.\n"
   ]
  },
  {
   "cell_type": "code",
   "execution_count": 47,
   "metadata": {},
   "outputs": [
    {
     "name": "stdout",
     "output_type": "stream",
     "text": [
      "root\n",
      " |-- userId: integer (nullable = true)\n",
      " |-- movieId: integer (nullable = true)\n",
      " |-- rating: double (nullable = true)\n",
      " |-- timestamp: integer (nullable = true)\n",
      " |-- time: timestamp (nullable = true)\n",
      "\n"
     ]
    }
   ],
   "source": [
    "df_ratings_to_use.printSchema()"
   ]
  },
  {
   "cell_type": "markdown",
   "metadata": {
    "ExecuteTime": {
     "end_time": "2021-03-06T13:53:01.240297Z",
     "start_time": "2021-03-06T13:53:01.235639Z"
    },
    "hidden": true
   },
   "source": [
    "## Features transformation"
   ]
  },
  {
   "cell_type": "code",
   "execution_count": 48,
   "metadata": {},
   "outputs": [],
   "source": [
    "# Columns from ratings that are going to be considered in the model\n",
    "\n",
    "user_col = 'userId'\n",
    "item_col = 'movieId' \n",
    "rating_col = 'rating'"
   ]
  },
  {
   "cell_type": "markdown",
   "metadata": {
    "ExecuteTime": {
     "end_time": "2021-03-06T12:46:42.492329Z",
     "start_time": "2021-03-06T12:46:42.487767Z"
    },
    "hidden": true
   },
   "source": [
    "# Select and train model\n",
    "\n",
    "In order to create the recommendation model, we will use the Alternating Least Squares (ALS) algorithm provided by Spark MLlib. \n",
    "\n",
    "See details in http://spark.apache.org/docs/latest/ml-collaborative-filtering.html , as we advise to check the main assumptions the implemented algorithm relies upon. For example, notice that:\n",
    "- it underlies a collaborative filtering strategy;\n",
    "- it aims to fill in the missing entries of a user-item association matrix, in which users and items are described by a small set of latent factors that can be used to predict missing entries. The latent factors are learned by the ALS algorithm.\n",
    "\n",
    "Again, as for data to train the model, the focus is on ratings."
   ]
  },
  {
   "cell_type": "markdown",
   "metadata": {
    "hidden": true
   },
   "source": [
    "## Partitioning of data\n",
    "\n",
    "We will use the standard split 80/20, for the reasons explained in the lectures."
   ]
  },
  {
   "cell_type": "code",
   "execution_count": 49,
   "metadata": {
    "ExecuteTime": {
     "end_time": "2021-03-07T19:11:31.983392Z",
     "start_time": "2021-03-07T19:11:30.973303Z"
    },
    "hidden": true
   },
   "outputs": [
    {
     "name": "stderr",
     "output_type": "stream",
     "text": [
      "[Stage 131:==============>                                          (2 + 6) / 8]\r"
     ]
    },
    {
     "name": "stdout",
     "output_type": "stream",
     "text": [
      "There are 7677972 rows in the training set and 1919321 in the validation set.\n"
     ]
    },
    {
     "name": "stderr",
     "output_type": "stream",
     "text": [
      "                                                                                \r"
     ]
    }
   ],
   "source": [
    "# train/validation ratings split\n",
    "\n",
    "df_train, df_validation = df_ratings_to_use.randomSplit([0.8, 0.2], 42) \n",
    "\n",
    "# caching data ... but just the training part and if we want to (check the implications)\n",
    "# df_train.cache()\n",
    "\n",
    "print(f'There are {df_train.count()} rows in the training set and {df_validation.count()} in the validation set.')\n"
   ]
  },
  {
   "cell_type": "markdown",
   "metadata": {},
   "source": [
    "**Note**:\n",
    "\n",
    "As we did with clean data, we may consider storing the data split into files, should we want to use it elsewhere. \n",
    "This relates to the need of guaranteeing unicity in a different environment. \n",
    "We leave it as it is now."
   ]
  },
  {
   "cell_type": "markdown",
   "metadata": {
    "hidden": true
   },
   "source": [
    "## ALS model\n",
    "\n",
    "Using the `ALS` estimator (the algorithm) to learn from the training data and consequently to build the model. "
   ]
  },
  {
   "cell_type": "code",
   "execution_count": 50,
   "metadata": {
    "ExecuteTime": {
     "end_time": "2021-03-07T19:11:32.955606Z",
     "start_time": "2021-03-07T19:11:32.419126Z"
    },
    "hidden": true
   },
   "outputs": [],
   "source": [
    "# Build the recommendation model using ALS on the training data\n",
    "# note that we set cold start strategy to 'drop' to ensure we don't get NaN evaluation metrics\n",
    "        \n",
    "     \n",
    "als = ALS(maxIter=5, \n",
    "          regParam=0.01, \n",
    "          userCol=user_col, \n",
    "          itemCol=item_col, \n",
    "          ratingCol=rating_col,\n",
    "          coldStartStrategy=\"drop\",\n",
    "          implicitPrefs=True\n",
    "         )\n",
    "\n",
    "# if the rating matrix is derived from another source of information\n",
    "# (i.e. it is inferred from other signals), we may set implicitPrefs\n",
    "# to True to get better results (see ALS reference)\n",
    "\n",
    "# Also, other parameters that should be considered: \n",
    "#        maxIter (maximum number of iterations), \n",
    "#        rank (number of latent factors)  "
   ]
  },
  {
   "cell_type": "markdown",
   "metadata": {},
   "source": [
    "## ML pipeline configuration"
   ]
  },
  {
   "cell_type": "code",
   "execution_count": 51,
   "metadata": {
    "ExecuteTime": {
     "end_time": "2021-03-07T19:11:32.970301Z",
     "start_time": "2021-03-07T19:11:32.967223Z"
    },
    "hidden": true
   },
   "outputs": [],
   "source": [
    "# The pipeline holds the only one stage set above\n",
    "\n",
    "# As we will see below, we are going to use it just for evaluation purposes\n",
    "\n",
    "pipeline = \n"
   ]
  },
  {
   "cell_type": "markdown",
   "metadata": {},
   "source": [
    "## Model fitting\n",
    "Get the model (as transformer) by fitting the pipeline to training data. It may take time!"
   ]
  },
  {
   "cell_type": "code",
   "execution_count": 52,
   "metadata": {},
   "outputs": [
    {
     "name": "stderr",
     "output_type": "stream",
     "text": [
      "24/04/03 20:47:33 WARN InstanceBuilder: Failed to load implementation from:dev.ludovic.netlib.blas.JNIBLAS\n",
      "24/04/03 20:47:34 WARN InstanceBuilder: Failed to load implementation from:dev.ludovic.netlib.lapack.JNILAPACK\n",
      "                                                                                \r"
     ]
    }
   ],
   "source": [
    "pipeline_model = pipeline."
   ]
  },
  {
   "cell_type": "markdown",
   "metadata": {},
   "source": [
    "# Evaluate model\n",
    "\n",
    "Let us evaluate the model that has been created."
   ]
  },
  {
   "cell_type": "markdown",
   "metadata": {},
   "source": [
    "## Testing the model\n",
    "\n",
    "It is time to apply the model built to validation data. Again, we will use the pipeline set above. \n",
    "\n",
    "Notice that, since the pipeline model is a transformer, we can easily apply it to validation data."
   ]
  },
  {
   "cell_type": "code",
   "execution_count": 53,
   "metadata": {
    "ExecuteTime": {
     "end_time": "2021-03-07T19:11:33.280981Z",
     "start_time": "2021-03-07T19:11:32.971571Z"
    },
    "hidden": true
   },
   "outputs": [],
   "source": [
    "# Make predictions on validation data and show values of columns of interest\n",
    "\n",
    "df_prediction = pipeline_model.transform(df_validation)"
   ]
  },
  {
   "cell_type": "code",
   "execution_count": 54,
   "metadata": {},
   "outputs": [
    {
     "name": "stdout",
     "output_type": "stream",
     "text": [
      "root\n",
      " |-- userId: integer (nullable = true)\n",
      " |-- movieId: integer (nullable = true)\n",
      " |-- rating: double (nullable = true)\n",
      " |-- timestamp: integer (nullable = true)\n",
      " |-- time: timestamp (nullable = true)\n",
      " |-- prediction: float (nullable = false)\n",
      "\n"
     ]
    },
    {
     "name": "stderr",
     "output_type": "stream",
     "text": [
      "                                                                                \r"
     ]
    },
    {
     "data": {
      "text/plain": [
       "1914660"
      ]
     },
     "execution_count": 54,
     "metadata": {},
     "output_type": "execute_result"
    }
   ],
   "source": [
    "df_prediction.printSchema()\n",
    "df_prediction.count() "
   ]
  },
  {
   "cell_type": "code",
   "execution_count": 55,
   "metadata": {},
   "outputs": [
    {
     "name": "stderr",
     "output_type": "stream",
     "text": [
      "[Stage 360:>                                                        (0 + 6) / 6]\r"
     ]
    },
    {
     "name": "stdout",
     "output_type": "stream",
     "text": [
      "+------+-------+------+----------+-------------------+------------+\n",
      "|userId|movieId|rating|timestamp |time               |prediction  |\n",
      "+------+-------+------+----------+-------------------+------------+\n",
      "|1     |34     |2.0   |943228491 |1999-11-21 23:54:51|0.20384896  |\n",
      "|1     |166    |5.0   |943228442 |1999-11-21 23:54:02|0.009173354 |\n",
      "|1     |302    |4.0   |944253272 |1999-12-03 20:34:32|0.036362004 |\n",
      "|1     |835    |3.0   |944248888 |1999-12-03 19:21:28|0.010275608 |\n",
      "|1     |1120   |1.0   |944250121 |1999-12-03 19:42:01|0.11650022  |\n",
      "|1     |1203   |5.0   |944248888 |1999-12-03 19:21:28|0.3472709   |\n",
      "|1     |1276   |3.0   |944248943 |1999-12-03 19:22:23|0.28005236  |\n",
      "|1     |1810   |3.0   |944253272 |1999-12-03 20:34:32|0.071456835 |\n",
      "|1     |2918   |4.0   |943228400 |1999-11-21 23:53:20|0.19806302  |\n",
      "|1     |2966   |1.0   |943226846 |1999-11-21 23:27:26|0.098449826 |\n",
      "|1     |3088   |3.0   |944053949 |1999-12-01 13:12:29|0.10106642  |\n",
      "|2     |193    |3.0   |836423902 |1996-07-03 20:58:22|0.102809034 |\n",
      "|2     |236    |4.0   |836423512 |1996-07-03 20:51:52|0.24210073  |\n",
      "|2     |339    |5.0   |836423284 |1996-07-03 20:48:04|0.4065569   |\n",
      "|2     |508    |5.0   |836423970 |1996-07-03 20:59:30|0.2735018   |\n",
      "|3     |329    |3.0   |1084484653|2004-05-13 22:44:13|0.4210574   |\n",
      "|3     |480    |4.0   |1084484525|2004-05-13 22:42:05|0.6463303   |\n",
      "|3     |3033   |3.0   |1084485361|2004-05-13 22:56:01|0.19693887  |\n",
      "|3     |5380   |5.0   |1084486046|2004-05-13 23:07:26|0.024898516 |\n",
      "|3     |6889   |5.0   |1084484981|2004-05-13 22:49:41|0.0137242405|\n",
      "+------+-------+------+----------+-------------------+------------+\n",
      "only showing top 20 rows\n",
      "\n"
     ]
    },
    {
     "name": "stderr",
     "output_type": "stream",
     "text": [
      "                                                                                \r"
     ]
    }
   ],
   "source": [
    "df_prediction.orderBy(user_col, item_col).show(truncate=False)"
   ]
  },
  {
   "cell_type": "code",
   "execution_count": 56,
   "metadata": {},
   "outputs": [
    {
     "name": "stderr",
     "output_type": "stream",
     "text": [
      "[Stage 406:>                                                        (0 + 6) / 6]\r"
     ]
    },
    {
     "name": "stdout",
     "output_type": "stream",
     "text": [
      "+------+-------+------+----------+-------------------+-------------+\n",
      "|userId|movieId|rating|timestamp |time               |prediction   |\n",
      "+------+-------+------+----------+-------------------+-------------+\n",
      "|176   |1      |2.5   |1225231995|2008-10-28 22:13:15|0.15051374   |\n",
      "|237   |1      |2.5   |1109494770|2005-02-27 08:59:30|0.07056041   |\n",
      "|249   |1      |5.0   |852155678 |1997-01-01 21:54:38|0.35842404   |\n",
      "|251   |1      |3.0   |1497652791|2017-06-16 23:39:51|0.35108992   |\n",
      "|448   |1      |4.0   |1084822895|2004-05-17 20:41:35|0.40689054   |\n",
      "|483   |1      |4.0   |974933809 |2000-11-22 22:56:49|0.48956427   |\n",
      "|686   |1      |3.0   |1605147476|2020-11-12 02:17:56|-0.039479226 |\n",
      "|698   |1      |4.5   |1289743558|2010-11-14 14:05:58|0.4781571    |\n",
      "|720   |1      |4.5   |1440207472|2015-08-22 02:37:52|0.009225294  |\n",
      "|760   |1      |4.0   |956636531 |2000-04-25 05:22:11|0.0013743453 |\n",
      "|785   |1      |5.0   |963726213 |2000-07-16 06:43:33|0.4478437    |\n",
      "|881   |1      |5.0   |1270793731|2010-04-09 07:15:31|0.8036039    |\n",
      "|978   |1      |5.0   |1136487117|2006-01-05 18:51:57|0.57950664   |\n",
      "|997   |1      |3.0   |1021669160|2002-05-17 21:59:20|-0.0027984977|\n",
      "|1029  |1      |3.0   |1485622552|2017-01-28 16:55:52|0.6691646    |\n",
      "|1043  |1      |4.0   |1477711326|2016-10-29 04:22:06|0.55046403   |\n",
      "|1127  |1      |5.0   |903199680 |1998-08-15 17:48:00|0.63573647   |\n",
      "|1149  |1      |4.0   |1672287580|2022-12-29 04:19:40|-0.0036828518|\n",
      "|1173  |1      |4.0   |877469440 |1997-10-21 22:30:40|0.33966      |\n",
      "|1215  |1      |5.0   |1652996991|2022-05-19 22:49:51|0.49569952   |\n",
      "+------+-------+------+----------+-------------------+-------------+\n",
      "only showing top 20 rows\n",
      "\n"
     ]
    },
    {
     "name": "stderr",
     "output_type": "stream",
     "text": [
      "                                                                                \r"
     ]
    }
   ],
   "source": [
    "df_prediction.orderBy(item_col, user_col).show(truncate=False)"
   ]
  },
  {
   "cell_type": "markdown",
   "metadata": {},
   "source": [
    "## Evaluation metrics\n",
    "\n",
    "Let us use an evaluator.\n"
   ]
  },
  {
   "cell_type": "code",
   "execution_count": 57,
   "metadata": {
    "scrolled": true
   },
   "outputs": [
    {
     "name": "stderr",
     "output_type": "stream",
     "text": [
      "[Stage 452:>                                                        (0 + 6) / 6]\r"
     ]
    },
    {
     "name": "stdout",
     "output_type": "stream",
     "text": [
      "The root mean square error is 3.492908655744611.\n"
     ]
    },
    {
     "name": "stderr",
     "output_type": "stream",
     "text": [
      "                                                                                \r"
     ]
    }
   ],
   "source": [
    "# Evaluate the model by computing the RMSE on the validation data\n",
    "# We can use a different metric!\n",
    "\n",
    "evaluator = RegressionEvaluator(metricName=\"rmse\",\n",
    "                                labelCol=rating_col,\n",
    "                                predictionCol=\"prediction\")\n",
    "\n",
    "rmse = evaluator.evaluate(df_prediction)\n",
    "print(f'The root mean square error is {rmse}.')\n"
   ]
  },
  {
   "cell_type": "raw",
   "metadata": {},
   "source": [
    "Is it good?"
   ]
  },
  {
   "cell_type": "markdown",
   "metadata": {},
   "source": [
    "## Saving the pipeline"
   ]
  },
  {
   "cell_type": "code",
   "execution_count": 58,
   "metadata": {},
   "outputs": [],
   "source": [
    "# We can save the pipeline for further use should we want\n",
    "\n",
    "pipeline.\n",
    "\n",
    "# later on, it can be loaded anywhere\n"
   ]
  },
  {
   "cell_type": "raw",
   "metadata": {},
   "source": [
    "Check in the working directory the pipeline that has been stored."
   ]
  },
  {
   "cell_type": "markdown",
   "metadata": {},
   "source": [
    "# Tune model\n",
    "\n",
    "We can improve the model. For example, by changing paramaters in the algorithm and also taking into consideration efficiency issues. We leave it now."
   ]
  },
  {
   "cell_type": "markdown",
   "metadata": {},
   "source": [
    "# Deploy model"
   ]
  },
  {
   "cell_type": "markdown",
   "metadata": {},
   "source": [
    "## Pre-computing recommendations\n",
    "\n",
    "The `ALS` algorithm provides some functions to get recommendations directly. \n",
    "\n",
    "Although we can achieve results if working with predictions after the pipeline set (see below), we will take advantage of such methods directly. \n",
    "\n",
    "We should emphasize that, as it stands, we will not be using the pipeline for this task, but still, training the model as before.\n"
   ]
  },
  {
   "cell_type": "code",
   "execution_count": 59,
   "metadata": {},
   "outputs": [
    {
     "name": "stderr",
     "output_type": "stream",
     "text": [
      "                                                                                \r"
     ]
    }
   ],
   "source": [
    "# Building the model with training data\n",
    "\n",
    "model = als.fit(df_train)"
   ]
  },
  {
   "cell_type": "code",
   "execution_count": 60,
   "metadata": {},
   "outputs": [],
   "source": [
    "users = df_train.select(als.getUserCol()).distinct()\n",
    "movies = df_train.select(als.getItemCol()).distinct()"
   ]
  },
  {
   "cell_type": "code",
   "execution_count": null,
   "metadata": {
    "scrolled": true
   },
   "outputs": [],
   "source": [
    "users.show()"
   ]
  },
  {
   "cell_type": "code",
   "execution_count": null,
   "metadata": {
    "scrolled": true
   },
   "outputs": [],
   "source": [
    "movies.show()"
   ]
  },
  {
   "cell_type": "code",
   "execution_count": null,
   "metadata": {
    "scrolled": true
   },
   "outputs": [],
   "source": [
    "[users.count(), movies.count()]"
   ]
  },
  {
   "cell_type": "markdown",
   "metadata": {},
   "source": [
    "### Top movie recommendations for users (using PySpark's method)"
   ]
  },
  {
   "cell_type": "code",
   "execution_count": 65,
   "metadata": {},
   "outputs": [],
   "source": [
    "top_k_movies = 5\n",
    "recs_for_users = model.recommendForAllUsers(top_k_movies)"
   ]
  },
  {
   "cell_type": "code",
   "execution_count": 66,
   "metadata": {},
   "outputs": [
    {
     "name": "stderr",
     "output_type": "stream",
     "text": [
      "[Stage 605:=====================================================>(99 + 1) / 100]\r"
     ]
    },
    {
     "name": "stdout",
     "output_type": "stream",
     "text": [
      "+------+-------------------------------------------------------------------------------------------------------+\n",
      "|userId|recommendations                                                                                        |\n",
      "+------+-------------------------------------------------------------------------------------------------------+\n",
      "|2     |[{356, 0.6291149}, {457, 0.5880901}, {364, 0.5095973}, {592, 0.4941127}, {380, 0.4807504}]             |\n",
      "|4     |[{2571, 0.07897446}, {2762, 0.061630286}, {2959, 0.05767458}, {2706, 0.056905672}, {1527, 0.053370126}]|\n",
      "|5     |[{296, 0.3167363}, {318, 0.305773}, {480, 0.29812986}, {150, 0.29792345}, {110, 0.28963044}]           |\n",
      "|10    |[{589, 0.755418}, {6539, 0.7338153}, {3793, 0.7308404}, {780, 0.7202}, {1210, 0.7128457}]              |\n",
      "|14    |[{527, 0.03428884}, {3897, 0.02925688}, {1193, 0.02873656}, {4226, 0.028312184}, {2858, 0.028230254}]  |\n",
      "|18    |[{527, 0.7010623}, {318, 0.696765}, {50, 0.6597826}, {593, 0.6515622}, {296, 0.6464614}]               |\n",
      "|22    |[{260, 0.5152433}, {1196, 0.4729976}, {1210, 0.45681593}, {4993, 0.42755175}, {7153, 0.39240822}]      |\n",
      "|25    |[{2571, 0.82313573}, {1198, 0.5778498}, {1196, 0.56281495}, {2959, 0.5405122}, {589, 0.5385877}]       |\n",
      "|38    |[{260, 0.42504153}, {1210, 0.34767678}, {318, 0.320258}, {58559, 0.31045857}, {858, 0.31005093}]       |\n",
      "|45    |[{2959, 0.26700395}, {593, 0.22511028}, {608, 0.21771216}, {50, 0.21588206}, {1, 0.21556452}]          |\n",
      "|46    |[{79132, 0.56016713}, {356, 0.5497311}, {5952, 0.5050791}, {7153, 0.47048303}, {7361, 0.46800277}]     |\n",
      "|50    |[{858, 0.59186554}, {260, 0.5414136}, {1221, 0.50605214}, {1193, 0.501761}, {318, 0.49956182}]         |\n",
      "|59    |[{2858, 0.96588004}, {527, 0.9057325}, {1193, 0.7667044}, {912, 0.7149749}, {1198, 0.68696827}]        |\n",
      "|60    |[{318, 0.54232097}, {858, 0.475461}, {296, 0.45072848}, {2028, 0.36494896}, {1221, 0.32939562}]        |\n",
      "|73    |[{1, 0.4076958}, {593, 0.35796082}, {356, 0.3140781}, {608, 0.29410043}, {50, 0.28987113}]             |\n",
      "|88    |[{260, 0.86008734}, {1196, 0.84301406}, {1198, 0.80369985}, {1210, 0.7872124}, {1270, 0.7434372}]      |\n",
      "|90    |[{318, 0.40659332}, {527, 0.35766724}, {858, 0.31750238}, {260, 0.30590683}, {1210, 0.28576317}]       |\n",
      "|97    |[{356, 0.51359725}, {5952, 0.5015791}, {593, 0.4903599}, {2571, 0.4634386}, {4993, 0.42179438}]        |\n",
      "|102   |[{356, 0.26057163}, {593, 0.21973413}, {457, 0.21436344}, {589, 0.18578884}, {2858, 0.17432757}]       |\n",
      "|108   |[{318, 0.4611783}, {858, 0.43999827}, {2028, 0.40568084}, {296, 0.32623303}, {2959, 0.29630783}]       |\n",
      "+------+-------------------------------------------------------------------------------------------------------+\n",
      "only showing top 20 rows\n",
      "\n"
     ]
    },
    {
     "name": "stderr",
     "output_type": "stream",
     "text": [
      "                                                                                \r"
     ]
    }
   ],
   "source": [
    "recs_for_users."
   ]
  },
  {
   "cell_type": "code",
   "execution_count": 67,
   "metadata": {},
   "outputs": [],
   "source": [
    "# Generate top movie recommendations for a specified set of users\n",
    "\n",
    "# subset_users = users.limit(5)\n",
    "# recs_for_subset_users = model.recommendForUserSubset(subset_users, top_k_movies)"
   ]
  },
  {
   "cell_type": "code",
   "execution_count": 68,
   "metadata": {},
   "outputs": [],
   "source": [
    "# recs_for_subset_users.show(truncate=False)"
   ]
  },
  {
   "cell_type": "markdown",
   "metadata": {},
   "source": [
    "Likewise, we can recommend users for each book. The model functions of concern are:\n",
    "\n",
    "- *recommendForAllItems*\n",
    "                                \n",
    "- *recommendForItemSubset*\n",
    "\n",
    "Check the documentation. We may leave it as exercise."
   ]
  },
  {
   "cell_type": "markdown",
   "metadata": {},
   "source": [
    "### Movie recommendations for users (in general)\n",
    "\n",
    "For the sake of running code in available time, we use only a subset of both users and movies."
   ]
  },
  {
   "cell_type": "code",
   "execution_count": null,
   "metadata": {
    "scrolled": true
   },
   "outputs": [],
   "source": [
    "m_users = 5\n",
    "n_movies = 10\n",
    "\n",
    "user_movie = users.limit(m_users).crossJoin(movies.limit(n_movies))\n",
    "user_movie.show()\n",
    "user_movie.count()                                           "
   ]
  },
  {
   "cell_type": "code",
   "execution_count": null,
   "metadata": {},
   "outputs": [],
   "source": [
    "df_prediction = model.transform(user_movie).sort('userId', 'prediction', ascending=[True, False])\n",
    "df_prediction.show(truncate=False)\n",
    "df_prediction.count()"
   ]
  },
  {
   "cell_type": "raw",
   "metadata": {},
   "source": [
    "Note:\n",
    "\n",
    "The recommendations/predictions computed above (df_prediction) may suggest movies \n",
    "that the users themselves have rated.\n",
    "We should make sure that those are filtered out prior to any movie recommendation. Try."
   ]
  },
  {
   "cell_type": "markdown",
   "metadata": {},
   "source": [
    "## Storing recommendations as persistent tables"
   ]
  },
  {
   "cell_type": "markdown",
   "metadata": {},
   "source": [
    "Save the computed recommendations as persistent tables into the Hive metastore."
   ]
  },
  {
   "cell_type": "code",
   "execution_count": 71,
   "metadata": {},
   "outputs": [
    {
     "name": "stderr",
     "output_type": "stream",
     "text": [
      "                                                                                \r"
     ]
    }
   ],
   "source": [
    "recs_for_users.write.mode(\"overwrite\").saveAsTable(\"RecommendationsForUsersTable\")"
   ]
  },
  {
   "cell_type": "code",
   "execution_count": null,
   "metadata": {},
   "outputs": [],
   "source": [
    "df_prediction."
   ]
  },
  {
   "cell_type": "code",
   "execution_count": 73,
   "metadata": {},
   "outputs": [],
   "source": [
    "# recs_for_subset_users.write.mode(\"overwrite\").saveAsTable(\"RecommendationsForSubsetUsersTable\")"
   ]
  },
  {
   "cell_type": "raw",
   "metadata": {},
   "source": [
    "Check the tables in the running directory."
   ]
  },
  {
   "cell_type": "markdown",
   "metadata": {},
   "source": [
    "## Exploring results\n",
    "\n",
    "As a simple exercise, let us show the recommended books for a particular user, \n",
    "but using Spark SQL tables."
   ]
  },
  {
   "cell_type": "raw",
   "metadata": {},
   "source": [
    "Recall for example:\n",
    "\n",
    "+------+-------------------------------------------------------------------------------------------------------+\n",
    "|userId|recommendations                                                                                        |\n",
    "+------+-------------------------------------------------------------------------------------------------------+\n",
    "|2     |[{356, 0.6291149}, {457, 0.5880901}, {364, 0.5095973}, {592, 0.4941127}, {380, 0.4807504}]             |\n",
    "|4     |[{2571, 0.07897446}, {2762, 0.061630286}, {2959, 0.05767458}, {2706, 0.056905672}, {1527, 0.053370126}]|\n",
    "|5     |[{296, 0.3167363}, {318, 0.305773}, {480, 0.29812986}, {150, 0.29792345}, {110, 0.28963044}]           |\n",
    "|10    |[{589, 0.755418}, {6539, 0.7338153}, {3793, 0.7308404}, {780, 0.7202}, {1210, 0.7128457}]              |\n",
    "|14    |[{527, 0.03428884}, {3897, 0.02925688}, {1193, 0.02873656}, {4226, 0.028312184}, {2858, 0.028230254}]  |\n",
    "|18    |[{527, 0.7010623}, {318, 0.696765}, {50, 0.6597826}, {593, 0.6515622}, {296, 0.6464614}]               |"
   ]
  },
  {
   "cell_type": "code",
   "execution_count": 74,
   "metadata": {},
   "outputs": [],
   "source": [
    "# user to explore\n",
    "\n",
    "user = 5\n"
   ]
  },
  {
   "cell_type": "markdown",
   "metadata": {},
   "source": [
    "First, let us check the SQL tables."
   ]
  },
  {
   "cell_type": "code",
   "execution_count": 75,
   "metadata": {},
   "outputs": [
    {
     "name": "stdout",
     "output_type": "stream",
     "text": [
      "[Database(name='default', catalog='spark_catalog', description='default database', locationUri='file:/Users/adriano/Documents/Academia/ISCTE/Teaching/2023-24/ABD/Praticas/Notebooks/Canvas/spark-warehouse')]\n"
     ]
    }
   ],
   "source": [
    "print(spark.catalog.listDatabases())"
   ]
  },
  {
   "cell_type": "code",
   "execution_count": 76,
   "metadata": {},
   "outputs": [
    {
     "data": {
      "text/plain": [
       "[Table(name='moviestable', catalog='spark_catalog', namespace=['default'], description=None, tableType='MANAGED', isTemporary=False),\n",
       " Table(name='ratingstable', catalog='spark_catalog', namespace=['default'], description=None, tableType='MANAGED', isTemporary=False),\n",
       " Table(name='rawrecommendationsforuserstable', catalog='spark_catalog', namespace=['default'], description=None, tableType='MANAGED', isTemporary=False),\n",
       " Table(name='recommendationsforuserstable', catalog='spark_catalog', namespace=['default'], description=None, tableType='MANAGED', isTemporary=False)]"
      ]
     },
     "execution_count": 76,
     "metadata": {},
     "output_type": "execute_result"
    }
   ],
   "source": [
    " spark.catalog.listTables(dbName=\"default\")"
   ]
  },
  {
   "cell_type": "code",
   "execution_count": 77,
   "metadata": {},
   "outputs": [
    {
     "data": {
      "text/plain": [
       "DataFrame[]"
      ]
     },
     "execution_count": 77,
     "metadata": {},
     "output_type": "execute_result"
    }
   ],
   "source": [
    "# Use managed tables\n",
    "\n",
    "spark.sql(\"USE default\")\n"
   ]
  },
  {
   "cell_type": "code",
   "execution_count": 78,
   "metadata": {},
   "outputs": [
    {
     "data": {
      "text/plain": [
       "[Column(name='movieId', description=None, dataType='int', nullable=True, isPartition=False, isBucket=False),\n",
       " Column(name='title', description=None, dataType='string', nullable=True, isPartition=False, isBucket=False),\n",
       " Column(name='genres', description=None, dataType='string', nullable=True, isPartition=False, isBucket=False)]"
      ]
     },
     "execution_count": 78,
     "metadata": {},
     "output_type": "execute_result"
    }
   ],
   "source": [
    "spark.catalog.listColumns('moviestable')"
   ]
  },
  {
   "cell_type": "code",
   "execution_count": 79,
   "metadata": {},
   "outputs": [
    {
     "data": {
      "text/plain": [
       "[Column(name='userId', description=None, dataType='int', nullable=True, isPartition=False, isBucket=False),\n",
       " Column(name='recommendations', description=None, dataType='array<struct<movieId:int,rating:float>>', nullable=True, isPartition=False, isBucket=False)]"
      ]
     },
     "execution_count": 79,
     "metadata": {},
     "output_type": "execute_result"
    }
   ],
   "source": [
    "spark.catalog.listColumns('recommendationsforuserstable')"
   ]
  },
  {
   "cell_type": "code",
   "execution_count": 80,
   "metadata": {},
   "outputs": [
    {
     "data": {
      "text/plain": [
       "[Column(name='userId', description=None, dataType='int', nullable=True, isPartition=False, isBucket=False),\n",
       " Column(name='movieId', description=None, dataType='int', nullable=True, isPartition=False, isBucket=False),\n",
       " Column(name='prediction', description=None, dataType='float', nullable=True, isPartition=False, isBucket=False)]"
      ]
     },
     "execution_count": 80,
     "metadata": {},
     "output_type": "execute_result"
    }
   ],
   "source": [
    "spark.catalog.listColumns('rawrecommendationsforuserstable')"
   ]
  },
  {
   "cell_type": "code",
   "execution_count": 81,
   "metadata": {},
   "outputs": [
    {
     "name": "stdout",
     "output_type": "stream",
     "text": [
      "+------+---------------------------------------------------------------------------------------------------+\n",
      "|userId|recommendations                                                                                    |\n",
      "+------+---------------------------------------------------------------------------------------------------+\n",
      "|13    |[{318, 0.7557082}, {110, 0.7321337}, {296, 0.68292063}, {527, 0.5774961}, {356, 0.5559001}]        |\n",
      "|37    |[{2571, 0.765461}, {2959, 0.6699872}, {593, 0.6166951}, {296, 0.58299637}, {1198, 0.57917607}]     |\n",
      "|49    |[{356, 0.5777449}, {150, 0.54368407}, {296, 0.5114955}, {318, 0.5094418}, {457, 0.50365126}]       |\n",
      "|52    |[{4993, 0.33177194}, {1136, 0.26097995}, {5618, 0.25628597}, {593, 0.24944158}, {4973, 0.24906562}]|\n",
      "|55    |[{296, 0.09242468}, {318, 0.0850522}, {150, 0.08272076}, {590, 0.082091115}, {110, 0.08147114}]    |\n",
      "|57    |[{858, 0.41186503}, {1, 0.4062896}, {780, 0.37033325}, {733, 0.34334487}, {260, 0.33437893}]       |\n",
      "|83    |[{4993, 0.7257122}, {4306, 0.65895426}, {4886, 0.6567642}, {6377, 0.6546309}, {7153, 0.6428564}]   |\n",
      "|92    |[{1704, 0.32673088}, {356, 0.32437566}, {318, 0.22119159}, {1721, 0.22054507}, {3147, 0.21369512}] |\n",
      "|107   |[{4993, 0.6715904}, {4886, 0.6625693}, {6377, 0.65656024}, {7153, 0.65485936}, {6539, 0.6478822}]  |\n",
      "|109   |[{364, 0.74043953}, {4306, 0.7198086}, {6377, 0.6720037}, {356, 0.6686075}, {4886, 0.63548297}]    |\n",
      "+------+---------------------------------------------------------------------------------------------------+\n",
      "only showing top 10 rows\n",
      "\n"
     ]
    }
   ],
   "source": [
    "spark.sql(\"SELECT * FROM recommendationsforuserstable\").show(10, truncate=False)"
   ]
  },
  {
   "cell_type": "code",
   "execution_count": 82,
   "metadata": {},
   "outputs": [
    {
     "name": "stdout",
     "output_type": "stream",
     "text": [
      "+-------+----------------------------------+-------------------------------------------+\n",
      "|movieId|title                             |genres                                     |\n",
      "+-------+----------------------------------+-------------------------------------------+\n",
      "|1      |Toy Story (1995)                  |Adventure|Animation|Children|Comedy|Fantasy|\n",
      "|2      |Jumanji (1995)                    |Adventure|Children|Fantasy                 |\n",
      "|3      |Grumpier Old Men (1995)           |Comedy|Romance                             |\n",
      "|4      |Waiting to Exhale (1995)          |Comedy|Drama|Romance                       |\n",
      "|5      |Father of the Bride Part II (1995)|Comedy                                     |\n",
      "|6      |Heat (1995)                       |Action|Crime|Thriller                      |\n",
      "|7      |Sabrina (1995)                    |Comedy|Romance                             |\n",
      "|8      |Tom and Huck (1995)               |Adventure|Children                         |\n",
      "|9      |Sudden Death (1995)               |Action                                     |\n",
      "|10     |GoldenEye (1995)                  |Action|Adventure|Thriller                  |\n",
      "+-------+----------------------------------+-------------------------------------------+\n",
      "only showing top 10 rows\n",
      "\n"
     ]
    }
   ],
   "source": [
    " spark.sql(\"SELECT * FROM moviestable\").show(10, truncate=False)"
   ]
  },
  {
   "cell_type": "code",
   "execution_count": 83,
   "metadata": {},
   "outputs": [
    {
     "name": "stdout",
     "output_type": "stream",
     "text": [
      "The recommended books for user 5 are: \n"
     ]
    }
   ],
   "source": [
    " print(f'The recommended books for user {user} are: ')"
   ]
  },
  {
   "cell_type": "markdown",
   "metadata": {},
   "source": [
    "We leave it as exercise - the information needed is there!"
   ]
  },
  {
   "cell_type": "markdown",
   "metadata": {
    "heading_collapsed": true
   },
   "source": [
    "# Additional exercises\n",
    "\n",
    "1. Add a functionality to the current program so that, when the recommended books for a particular user are shown, it is also shown related information about the movies contained in the file `links.csv` mentioned earlier.\n",
    "\n",
    "*Hint*: After reading the data from `links.csv`, and performing the subsequent checking, store the corresponding dataframe as a temporary view (see the method *createOrReplaceTempView*). Then, proceed similarly to the case of the table *moviestable*.\n",
    "\n",
    "2. Given the current status of this notebook, redesign it so that the major tasks are split into \n",
    "various notebooks, or Python modules. \n",
    "The purpose is to modularize code having in mind the setup of a real recommender system. That is:\n",
    "\n",
    "- A downloader module, with focus on downloading data, cleasing it, and then storing it in a data store.\n",
    "- A recommender building module, to create a recommendation model\n",
    "- A recommender running module, to pre-compute recommendations and to save them in a data store.\n",
    "- A recommender server, to retrieve recommendations upon queries made to the data store."
   ]
  },
  {
   "cell_type": "markdown",
   "metadata": {
    "heading_collapsed": true
   },
   "source": [
    "# References"
   ]
  },
  {
   "cell_type": "markdown",
   "metadata": {
    "hidden": true
   },
   "source": [
    "* Learning Spark - Lightning-Fast Data Analytics, 2nd Ed. J. Damji, B. Wenig, T. Das, and D. Lee. O'Reilly, 2020\n",
    "* http://spark.apache.org/docs/latest/ml-guide.html\n",
    "* https://docs.python.org/3/\n",
    "* F. Maxwell Harper and Joseph A. Konstan. 2015. The MovieLens Datasets: History and Context. ACM Transactions on Interactive Intelligent Systems (TiiS) 5, 4: 19:1–19:19.\n"
   ]
  },
  {
   "cell_type": "code",
   "execution_count": null,
   "metadata": {},
   "outputs": [],
   "source": []
  }
 ],
 "metadata": {
  "kernelspec": {
   "display_name": "pyspark_env",
   "language": "python",
   "name": "pyspark_env"
  },
  "language_info": {
   "codemirror_mode": {
    "name": "ipython",
    "version": 3
   },
   "file_extension": ".py",
   "mimetype": "text/x-python",
   "name": "python",
   "nbconvert_exporter": "python",
   "pygments_lexer": "ipython3",
   "version": "3.12.1"
  },
  "toc": {
   "base_numbering": 1,
   "nav_menu": {
    "height": "249px",
    "width": "332px"
   },
   "number_sections": true,
   "sideBar": true,
   "skip_h1_title": false,
   "title_cell": "Table of Contents",
   "title_sidebar": "Contents",
   "toc_cell": false,
   "toc_position": {
    "height": "calc(100% - 180px)",
    "left": "10px",
    "top": "150px",
    "width": "204.98px"
   },
   "toc_section_display": true,
   "toc_window_display": true
  }
 },
 "nbformat": 4,
 "nbformat_minor": 4
}
